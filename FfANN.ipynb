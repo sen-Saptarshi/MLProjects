{
 "cells": [
  {
   "cell_type": "markdown",
   "id": "5cd996fa-cebc-475a-bda7-68a0ae96bac1",
   "metadata": {},
   "source": [
    "### using DNN (Densely-connected Neural Network) (Also A \"Multilayer Perceptron\")\n",
    "### DNN used for `Tabular Data`"
   ]
  },
  {
   "cell_type": "markdown",
   "id": "73816ce2-8bb1-4f17-a5c5-93e44a2ab508",
   "metadata": {},
   "source": [
    "#### Feed Forward DNN\n",
    "#### all nodes in a previous layer -> all nodes in subsequent layer\n"
   ]
  },
  {
   "cell_type": "markdown",
   "id": "157e0bcc-e00b-466e-b70d-d8dbcccd08d9",
   "metadata": {},
   "source": [
    "### Neural Network\n",
    "#### input layer - Hidden Layer - output layer\n"
   ]
  },
  {
   "cell_type": "markdown",
   "id": "ba93832a-9cbe-4cc5-8c87-f7eae183ff5c",
   "metadata": {},
   "source": [
    "#### Neural network works in 2 ways\n",
    "### Feed Forward\n",
    "### Back Propagation\n",
    "    Back prop - two phases (a)dcost/dwo (b)dcost/dbo; i.e. minimize cost wrt weight and bias"
   ]
  },
  {
   "cell_type": "markdown",
   "id": "9f34c41e-2bea-425c-ab9d-d4c42135325c",
   "metadata": {},
   "source": [
    "    Use the CPU version of tensorflow or the GPU version with tf version<2.11 "
   ]
  },
  {
   "cell_type": "markdown",
   "id": "40af456d-7a0c-4857-961d-9df01098929f",
   "metadata": {},
   "source": []
  },
  {
   "cell_type": "code",
   "execution_count": 7,
   "id": "04ae4ba1-d776-4220-9c48-df2243479015",
   "metadata": {},
   "outputs": [
    {
     "name": "stdout",
     "output_type": "stream",
     "text": [
      "2.18.0\n"
     ]
    }
   ],
   "source": [
    "import pandas as pd\n",
    "import numpy as np\n",
    "import matplotlib.pyplot as plt\n",
    "from sklearn.model_selection import train_test_split\n",
    "import seaborn as sns\n",
    "%matplotlib inline\n",
    "sns.set(style=\"darkgrid\")\n",
    "import tensorflow as tf\n",
    "\n",
    "print (tf.__version__)\n"
   ]
  },
  {
   "cell_type": "code",
   "execution_count": 8,
   "id": "670e91db-dd8d-4eb2-805b-715ac5e8ec3e",
   "metadata": {},
   "outputs": [],
   "source": [
    "data_path = \"./datasets/carprice/train-data.csv\"\n",
    "car_dataset = pd.read_csv(data_path, engine='python')"
   ]
  },
  {
   "cell_type": "code",
   "execution_count": 9,
   "id": "5033e292-36f2-4e9a-a6d8-f026628514ac",
   "metadata": {},
   "outputs": [
    {
     "data": {
      "text/html": [
       "<div>\n",
       "<style scoped>\n",
       "    .dataframe tbody tr th:only-of-type {\n",
       "        vertical-align: middle;\n",
       "    }\n",
       "\n",
       "    .dataframe tbody tr th {\n",
       "        vertical-align: top;\n",
       "    }\n",
       "\n",
       "    .dataframe thead th {\n",
       "        text-align: right;\n",
       "    }\n",
       "</style>\n",
       "<table border=\"1\" class=\"dataframe\">\n",
       "  <thead>\n",
       "    <tr style=\"text-align: right;\">\n",
       "      <th></th>\n",
       "      <th>Unnamed: 0</th>\n",
       "      <th>Name</th>\n",
       "      <th>Location</th>\n",
       "      <th>Year</th>\n",
       "      <th>Kilometers_Driven</th>\n",
       "      <th>Fuel_Type</th>\n",
       "      <th>Transmission</th>\n",
       "      <th>Owner_Type</th>\n",
       "      <th>Mileage</th>\n",
       "      <th>Engine</th>\n",
       "      <th>Power</th>\n",
       "      <th>Seats</th>\n",
       "      <th>New_Price</th>\n",
       "      <th>Price</th>\n",
       "    </tr>\n",
       "  </thead>\n",
       "  <tbody>\n",
       "    <tr>\n",
       "      <th>0</th>\n",
       "      <td>0</td>\n",
       "      <td>Maruti Wagon R LXI CNG</td>\n",
       "      <td>Mumbai</td>\n",
       "      <td>2010</td>\n",
       "      <td>72000</td>\n",
       "      <td>CNG</td>\n",
       "      <td>Manual</td>\n",
       "      <td>First</td>\n",
       "      <td>26.6 km/kg</td>\n",
       "      <td>998 CC</td>\n",
       "      <td>58.16 bhp</td>\n",
       "      <td>5.0</td>\n",
       "      <td>NaN</td>\n",
       "      <td>1.75</td>\n",
       "    </tr>\n",
       "    <tr>\n",
       "      <th>1</th>\n",
       "      <td>1</td>\n",
       "      <td>Hyundai Creta 1.6 CRDi SX Option</td>\n",
       "      <td>Pune</td>\n",
       "      <td>2015</td>\n",
       "      <td>41000</td>\n",
       "      <td>Diesel</td>\n",
       "      <td>Manual</td>\n",
       "      <td>First</td>\n",
       "      <td>19.67 kmpl</td>\n",
       "      <td>1582 CC</td>\n",
       "      <td>126.2 bhp</td>\n",
       "      <td>5.0</td>\n",
       "      <td>NaN</td>\n",
       "      <td>12.50</td>\n",
       "    </tr>\n",
       "    <tr>\n",
       "      <th>2</th>\n",
       "      <td>2</td>\n",
       "      <td>Honda Jazz V</td>\n",
       "      <td>Chennai</td>\n",
       "      <td>2011</td>\n",
       "      <td>46000</td>\n",
       "      <td>Petrol</td>\n",
       "      <td>Manual</td>\n",
       "      <td>First</td>\n",
       "      <td>18.2 kmpl</td>\n",
       "      <td>1199 CC</td>\n",
       "      <td>88.7 bhp</td>\n",
       "      <td>5.0</td>\n",
       "      <td>8.61 Lakh</td>\n",
       "      <td>4.50</td>\n",
       "    </tr>\n",
       "    <tr>\n",
       "      <th>3</th>\n",
       "      <td>3</td>\n",
       "      <td>Maruti Ertiga VDI</td>\n",
       "      <td>Chennai</td>\n",
       "      <td>2012</td>\n",
       "      <td>87000</td>\n",
       "      <td>Diesel</td>\n",
       "      <td>Manual</td>\n",
       "      <td>First</td>\n",
       "      <td>20.77 kmpl</td>\n",
       "      <td>1248 CC</td>\n",
       "      <td>88.76 bhp</td>\n",
       "      <td>7.0</td>\n",
       "      <td>NaN</td>\n",
       "      <td>6.00</td>\n",
       "    </tr>\n",
       "    <tr>\n",
       "      <th>4</th>\n",
       "      <td>4</td>\n",
       "      <td>Audi A4 New 2.0 TDI Multitronic</td>\n",
       "      <td>Coimbatore</td>\n",
       "      <td>2013</td>\n",
       "      <td>40670</td>\n",
       "      <td>Diesel</td>\n",
       "      <td>Automatic</td>\n",
       "      <td>Second</td>\n",
       "      <td>15.2 kmpl</td>\n",
       "      <td>1968 CC</td>\n",
       "      <td>140.8 bhp</td>\n",
       "      <td>5.0</td>\n",
       "      <td>NaN</td>\n",
       "      <td>17.74</td>\n",
       "    </tr>\n",
       "  </tbody>\n",
       "</table>\n",
       "</div>"
      ],
      "text/plain": [
       "   Unnamed: 0                              Name    Location  Year  \\\n",
       "0           0            Maruti Wagon R LXI CNG      Mumbai  2010   \n",
       "1           1  Hyundai Creta 1.6 CRDi SX Option        Pune  2015   \n",
       "2           2                      Honda Jazz V     Chennai  2011   \n",
       "3           3                 Maruti Ertiga VDI     Chennai  2012   \n",
       "4           4   Audi A4 New 2.0 TDI Multitronic  Coimbatore  2013   \n",
       "\n",
       "   Kilometers_Driven Fuel_Type Transmission Owner_Type     Mileage   Engine  \\\n",
       "0              72000       CNG       Manual      First  26.6 km/kg   998 CC   \n",
       "1              41000    Diesel       Manual      First  19.67 kmpl  1582 CC   \n",
       "2              46000    Petrol       Manual      First   18.2 kmpl  1199 CC   \n",
       "3              87000    Diesel       Manual      First  20.77 kmpl  1248 CC   \n",
       "4              40670    Diesel    Automatic     Second   15.2 kmpl  1968 CC   \n",
       "\n",
       "       Power  Seats  New_Price  Price  \n",
       "0  58.16 bhp    5.0        NaN   1.75  \n",
       "1  126.2 bhp    5.0        NaN  12.50  \n",
       "2   88.7 bhp    5.0  8.61 Lakh   4.50  \n",
       "3  88.76 bhp    7.0        NaN   6.00  \n",
       "4  140.8 bhp    5.0        NaN  17.74  "
      ]
     },
     "execution_count": 9,
     "metadata": {},
     "output_type": "execute_result"
    }
   ],
   "source": [
    "car_dataset.head()"
   ]
  },
  {
   "cell_type": "code",
   "execution_count": 10,
   "id": "77285fba-997d-47ab-9480-74cf39df45d6",
   "metadata": {},
   "outputs": [
    {
     "data": {
      "text/plain": [
       "Unnamed: 0            0.000000\n",
       "Name                  0.000000\n",
       "Location              0.000000\n",
       "Year                  0.000000\n",
       "Kilometers_Driven     0.000000\n",
       "Fuel_Type             0.000000\n",
       "Transmission          0.000000\n",
       "Owner_Type            0.000000\n",
       "Mileage               0.033228\n",
       "Engine                0.598106\n",
       "Power                 0.598106\n",
       "Seats                 0.697790\n",
       "New_Price            86.310018\n",
       "Price                 0.000000\n",
       "dtype: float64"
      ]
     },
     "execution_count": 10,
     "metadata": {},
     "output_type": "execute_result"
    }
   ],
   "source": [
    "car_dataset.isnull().mean()*100"
   ]
  },
  {
   "cell_type": "code",
   "execution_count": 11,
   "id": "85d489e8-fc88-4605-8743-f2d54594e7f9",
   "metadata": {},
   "outputs": [
    {
     "data": {
      "text/plain": [
       "Index(['Unnamed: 0', 'Name', 'Location', 'Year', 'Kilometers_Driven',\n",
       "       'Fuel_Type', 'Transmission', 'Owner_Type', 'Mileage', 'Engine', 'Power',\n",
       "       'Seats', 'New_Price', 'Price'],\n",
       "      dtype='object')"
      ]
     },
     "execution_count": 11,
     "metadata": {},
     "output_type": "execute_result"
    }
   ],
   "source": [
    "car_dataset.columns"
   ]
  },
  {
   "cell_type": "code",
   "execution_count": 12,
   "id": "0399c5e0-22b5-41d5-ab36-34a4dff90422",
   "metadata": {},
   "outputs": [],
   "source": [
    "car_dataset = car_dataset.drop(['Unnamed: 0', 'New_Price'], axis=1)\n"
   ]
  },
  {
   "cell_type": "code",
   "execution_count": 13,
   "id": "f7979cd7-8758-4502-af18-df0309d87fba",
   "metadata": {},
   "outputs": [
    {
     "data": {
      "text/plain": [
       "Name                 0.000000\n",
       "Location             0.000000\n",
       "Year                 0.000000\n",
       "Kilometers_Driven    0.000000\n",
       "Fuel_Type            0.000000\n",
       "Transmission         0.000000\n",
       "Owner_Type           0.000000\n",
       "Mileage              0.033228\n",
       "Engine               0.598106\n",
       "Power                0.598106\n",
       "Seats                0.697790\n",
       "Price                0.000000\n",
       "dtype: float64"
      ]
     },
     "execution_count": 13,
     "metadata": {},
     "output_type": "execute_result"
    }
   ],
   "source": [
    "car_dataset.isnull().mean()*100"
   ]
  },
  {
   "cell_type": "code",
   "execution_count": 14,
   "id": "02fc3b67-f7a8-43b9-9658-388efc7b7ca3",
   "metadata": {},
   "outputs": [
    {
     "data": {
      "text/plain": [
       "<Axes: >"
      ]
     },
     "execution_count": 14,
     "metadata": {},
     "output_type": "execute_result"
    },
    {
     "data": {
      "image/png": "[encoded data removed]",
      "text/plain": [
       "<Figure size 800x600 with 2 Axes>"
      ]
     },
     "metadata": {},
     "output_type": "display_data"
    }
   ],
   "source": [
    "plt.rcParams[\"figure.figsize\"]=[8,6]\n",
    "numeric_df = car_dataset.select_dtypes(include=['number'])\n",
    "sns.heatmap(numeric_df.corr())"
   ]
  },
  {
   "cell_type": "code",
   "execution_count": 15,
   "id": "7711e2e7-3949-4eba-a28f-5df8b9d8e0be",
   "metadata": {},
   "outputs": [
    {
     "data": {
      "text/plain": [
       "<Axes: xlabel='Price', ylabel='Count'>"
      ]
     },
     "execution_count": 15,
     "metadata": {},
     "output_type": "execute_result"
    },
    {
     "data": {
      "image/png": "[encoded data removed]",
      "text/plain": [
       "<Figure size 800x600 with 1 Axes>"
      ]
     },
     "metadata": {},
     "output_type": "display_data"
    }
   ],
   "source": [
    "sns.histplot(car_dataset['Price'])"
   ]
  },
  {
   "cell_type": "code",
   "execution_count": 16,
   "id": "0b9fa1cd-760e-4a2a-8541-0c514317a235",
   "metadata": {},
   "outputs": [
    {
     "data": {
      "text/plain": [
       "Name                 1876\n",
       "Location               11\n",
       "Year                   22\n",
       "Kilometers_Driven    3093\n",
       "Fuel_Type               5\n",
       "Transmission            2\n",
       "Owner_Type              4\n",
       "Mileage               442\n",
       "Engine                146\n",
       "Power                 372\n",
       "Seats                   9\n",
       "Price                1373\n",
       "dtype: int64"
      ]
     },
     "execution_count": 16,
     "metadata": {},
     "output_type": "execute_result"
    }
   ],
   "source": [
    "car_dataset.nunique()\n"
   ]
  },
  {
   "cell_type": "code",
   "execution_count": 17,
   "id": "b5d7ac90-ca9e-44ff-9efa-24c8ad208824",
   "metadata": {},
   "outputs": [
    {
     "data": {
      "text/plain": [
       "Name                  object\n",
       "Location              object\n",
       "Year                   int64\n",
       "Kilometers_Driven      int64\n",
       "Fuel_Type             object\n",
       "Transmission          object\n",
       "Owner_Type            object\n",
       "Mileage               object\n",
       "Engine                object\n",
       "Power                 object\n",
       "Seats                float64\n",
       "Price                float64\n",
       "dtype: object"
      ]
     },
     "execution_count": 17,
     "metadata": {},
     "output_type": "execute_result"
    }
   ],
   "source": [
    "car_dataset.dtypes"
   ]
  },
  {
   "cell_type": "code",
   "execution_count": 18,
   "id": "dc72b9f6-4d13-4edc-aee7-fa9ce8e2b2d4",
   "metadata": {},
   "outputs": [
    {
     "data": {
      "text/plain": [
       "Index(['Name', 'Location', 'Fuel_Type', 'Transmission', 'Owner_Type',\n",
       "       'Mileage', 'Engine', 'Power'],\n",
       "      dtype='object')"
      ]
     },
     "execution_count": 18,
     "metadata": {},
     "output_type": "execute_result"
    }
   ],
   "source": [
    "categorical_data = car_dataset.select_dtypes(include=['object'])\n",
    "categorical_data.columns"
   ]
  },
  {
   "cell_type": "code",
   "execution_count": 19,
   "id": "d07cbcb1-ccf1-435d-92c3-680550c74168",
   "metadata": {},
   "outputs": [],
   "source": [
    "categorical_data = categorical_data.drop([\"Name\"], axis=1)"
   ]
  },
  {
   "cell_type": "code",
   "execution_count": 20,
   "id": "8c8be7bc-0946-4036-91be-54b9853f3c0b",
   "metadata": {},
   "outputs": [
    {
     "data": {
      "text/html": [
       "<div>\n",
       "<style scoped>\n",
       "    .dataframe tbody tr th:only-of-type {\n",
       "        vertical-align: middle;\n",
       "    }\n",
       "\n",
       "    .dataframe tbody tr th {\n",
       "        vertical-align: top;\n",
       "    }\n",
       "\n",
       "    .dataframe thead th {\n",
       "        text-align: right;\n",
       "    }\n",
       "</style>\n",
       "<table border=\"1\" class=\"dataframe\">\n",
       "  <thead>\n",
       "    <tr style=\"text-align: right;\">\n",
       "      <th></th>\n",
       "      <th>Location</th>\n",
       "      <th>Fuel_Type</th>\n",
       "      <th>Transmission</th>\n",
       "      <th>Owner_Type</th>\n",
       "      <th>Mileage</th>\n",
       "      <th>Engine</th>\n",
       "      <th>Power</th>\n",
       "    </tr>\n",
       "  </thead>\n",
       "  <tbody>\n",
       "    <tr>\n",
       "      <th>0</th>\n",
       "      <td>Mumbai</td>\n",
       "      <td>CNG</td>\n",
       "      <td>Manual</td>\n",
       "      <td>First</td>\n",
       "      <td>26.6 km/kg</td>\n",
       "      <td>998 CC</td>\n",
       "      <td>58.16 bhp</td>\n",
       "    </tr>\n",
       "    <tr>\n",
       "      <th>1</th>\n",
       "      <td>Pune</td>\n",
       "      <td>Diesel</td>\n",
       "      <td>Manual</td>\n",
       "      <td>First</td>\n",
       "      <td>19.67 kmpl</td>\n",
       "      <td>1582 CC</td>\n",
       "      <td>126.2 bhp</td>\n",
       "    </tr>\n",
       "    <tr>\n",
       "      <th>2</th>\n",
       "      <td>Chennai</td>\n",
       "      <td>Petrol</td>\n",
       "      <td>Manual</td>\n",
       "      <td>First</td>\n",
       "      <td>18.2 kmpl</td>\n",
       "      <td>1199 CC</td>\n",
       "      <td>88.7 bhp</td>\n",
       "    </tr>\n",
       "    <tr>\n",
       "      <th>3</th>\n",
       "      <td>Chennai</td>\n",
       "      <td>Diesel</td>\n",
       "      <td>Manual</td>\n",
       "      <td>First</td>\n",
       "      <td>20.77 kmpl</td>\n",
       "      <td>1248 CC</td>\n",
       "      <td>88.76 bhp</td>\n",
       "    </tr>\n",
       "    <tr>\n",
       "      <th>4</th>\n",
       "      <td>Coimbatore</td>\n",
       "      <td>Diesel</td>\n",
       "      <td>Automatic</td>\n",
       "      <td>Second</td>\n",
       "      <td>15.2 kmpl</td>\n",
       "      <td>1968 CC</td>\n",
       "      <td>140.8 bhp</td>\n",
       "    </tr>\n",
       "  </tbody>\n",
       "</table>\n",
       "</div>"
      ],
      "text/plain": [
       "     Location Fuel_Type Transmission Owner_Type     Mileage   Engine  \\\n",
       "0      Mumbai       CNG       Manual      First  26.6 km/kg   998 CC   \n",
       "1        Pune    Diesel       Manual      First  19.67 kmpl  1582 CC   \n",
       "2     Chennai    Petrol       Manual      First   18.2 kmpl  1199 CC   \n",
       "3     Chennai    Diesel       Manual      First  20.77 kmpl  1248 CC   \n",
       "4  Coimbatore    Diesel    Automatic     Second   15.2 kmpl  1968 CC   \n",
       "\n",
       "       Power  \n",
       "0  58.16 bhp  \n",
       "1  126.2 bhp  \n",
       "2   88.7 bhp  \n",
       "3  88.76 bhp  \n",
       "4  140.8 bhp  "
      ]
     },
     "execution_count": 20,
     "metadata": {},
     "output_type": "execute_result"
    }
   ],
   "source": [
    "categorical_data.head()"
   ]
  },
  {
   "cell_type": "code",
   "execution_count": 21,
   "id": "ffb1a91f-5e9b-49e2-adbe-219b2091c247",
   "metadata": {},
   "outputs": [],
   "source": [
    "import tensorflow as tf"
   ]
  },
  {
   "cell_type": "code",
   "execution_count": 22,
   "id": "9568bcd8-67c4-4e87-8b69-01dd189e140f",
   "metadata": {},
   "outputs": [
    {
     "data": {
      "text/plain": [
       "[PhysicalDevice(name='/physical_device:CPU:0', device_type='CPU')]"
      ]
     },
     "execution_count": 22,
     "metadata": {},
     "output_type": "execute_result"
    }
   ],
   "source": [
    "tf.config.list_physical_devices()"
   ]
  },
  {
   "cell_type": "code",
   "execution_count": 23,
   "id": "45745ab2-6f88-4294-9903-2f0dddfc4fb3",
   "metadata": {},
   "outputs": [
    {
     "data": {
      "text/plain": [
       "<tf.Tensor: shape=(), dtype=float32, numpy=-180.31997680664062>"
      ]
     },
     "execution_count": 23,
     "metadata": {},
     "output_type": "execute_result"
    }
   ],
   "source": [
    "tf.reduce_sum(tf.random.normal([1000, 1000]))"
   ]
  },
  {
   "cell_type": "markdown",
   "id": "466a9181-978e-4fc7-8134-9e9d1e8071f0",
   "metadata": {},
   "source": [
    "### Using One-hot-encoding\n",
    "    using pd.get_dummies()"
   ]
  },
  {
   "cell_type": "code",
   "execution_count": 25,
   "id": "7b43ae26-2cc7-49b8-9976-95c8220ecb78",
   "metadata": {},
   "outputs": [
    {
     "data": {
      "text/html": [
       "<div>\n",
       "<style scoped>\n",
       "    .dataframe tbody tr th:only-of-type {\n",
       "        vertical-align: middle;\n",
       "    }\n",
       "\n",
       "    .dataframe tbody tr th {\n",
       "        vertical-align: top;\n",
       "    }\n",
       "\n",
       "    .dataframe thead th {\n",
       "        text-align: right;\n",
       "    }\n",
       "</style>\n",
       "<table border=\"1\" class=\"dataframe\">\n",
       "  <thead>\n",
       "    <tr style=\"text-align: right;\">\n",
       "      <th></th>\n",
       "      <th>Location_Bangalore</th>\n",
       "      <th>Location_Chennai</th>\n",
       "      <th>Location_Coimbatore</th>\n",
       "      <th>Location_Delhi</th>\n",
       "      <th>Location_Hyderabad</th>\n",
       "      <th>Location_Jaipur</th>\n",
       "      <th>Location_Kochi</th>\n",
       "      <th>Location_Kolkata</th>\n",
       "      <th>Location_Mumbai</th>\n",
       "      <th>Location_Pune</th>\n",
       "      <th>...</th>\n",
       "      <th>Power_97.6 bhp</th>\n",
       "      <th>Power_97.7 bhp</th>\n",
       "      <th>Power_98.59 bhp</th>\n",
       "      <th>Power_98.6 bhp</th>\n",
       "      <th>Power_98.79 bhp</th>\n",
       "      <th>Power_98.82 bhp</th>\n",
       "      <th>Power_98.96 bhp</th>\n",
       "      <th>Power_99 bhp</th>\n",
       "      <th>Power_99.6 bhp</th>\n",
       "      <th>Power_null bhp</th>\n",
       "    </tr>\n",
       "  </thead>\n",
       "  <tbody>\n",
       "    <tr>\n",
       "      <th>0</th>\n",
       "      <td>False</td>\n",
       "      <td>False</td>\n",
       "      <td>False</td>\n",
       "      <td>False</td>\n",
       "      <td>False</td>\n",
       "      <td>False</td>\n",
       "      <td>False</td>\n",
       "      <td>False</td>\n",
       "      <td>True</td>\n",
       "      <td>False</td>\n",
       "      <td>...</td>\n",
       "      <td>False</td>\n",
       "      <td>False</td>\n",
       "      <td>False</td>\n",
       "      <td>False</td>\n",
       "      <td>False</td>\n",
       "      <td>False</td>\n",
       "      <td>False</td>\n",
       "      <td>False</td>\n",
       "      <td>False</td>\n",
       "      <td>False</td>\n",
       "    </tr>\n",
       "    <tr>\n",
       "      <th>1</th>\n",
       "      <td>False</td>\n",
       "      <td>False</td>\n",
       "      <td>False</td>\n",
       "      <td>False</td>\n",
       "      <td>False</td>\n",
       "      <td>False</td>\n",
       "      <td>False</td>\n",
       "      <td>False</td>\n",
       "      <td>False</td>\n",
       "      <td>True</td>\n",
       "      <td>...</td>\n",
       "      <td>False</td>\n",
       "      <td>False</td>\n",
       "      <td>False</td>\n",
       "      <td>False</td>\n",
       "      <td>False</td>\n",
       "      <td>False</td>\n",
       "      <td>False</td>\n",
       "      <td>False</td>\n",
       "      <td>False</td>\n",
       "      <td>False</td>\n",
       "    </tr>\n",
       "    <tr>\n",
       "      <th>2</th>\n",
       "      <td>False</td>\n",
       "      <td>True</td>\n",
       "      <td>False</td>\n",
       "      <td>False</td>\n",
       "      <td>False</td>\n",
       "      <td>False</td>\n",
       "      <td>False</td>\n",
       "      <td>False</td>\n",
       "      <td>False</td>\n",
       "      <td>False</td>\n",
       "      <td>...</td>\n",
       "      <td>False</td>\n",
       "      <td>False</td>\n",
       "      <td>False</td>\n",
       "      <td>False</td>\n",
       "      <td>False</td>\n",
       "      <td>False</td>\n",
       "      <td>False</td>\n",
       "      <td>False</td>\n",
       "      <td>False</td>\n",
       "      <td>False</td>\n",
       "    </tr>\n",
       "    <tr>\n",
       "      <th>3</th>\n",
       "      <td>False</td>\n",
       "      <td>True</td>\n",
       "      <td>False</td>\n",
       "      <td>False</td>\n",
       "      <td>False</td>\n",
       "      <td>False</td>\n",
       "      <td>False</td>\n",
       "      <td>False</td>\n",
       "      <td>False</td>\n",
       "      <td>False</td>\n",
       "      <td>...</td>\n",
       "      <td>False</td>\n",
       "      <td>False</td>\n",
       "      <td>False</td>\n",
       "      <td>False</td>\n",
       "      <td>False</td>\n",
       "      <td>False</td>\n",
       "      <td>False</td>\n",
       "      <td>False</td>\n",
       "      <td>False</td>\n",
       "      <td>False</td>\n",
       "    </tr>\n",
       "    <tr>\n",
       "      <th>4</th>\n",
       "      <td>False</td>\n",
       "      <td>False</td>\n",
       "      <td>True</td>\n",
       "      <td>False</td>\n",
       "      <td>False</td>\n",
       "      <td>False</td>\n",
       "      <td>False</td>\n",
       "      <td>False</td>\n",
       "      <td>False</td>\n",
       "      <td>False</td>\n",
       "      <td>...</td>\n",
       "      <td>False</td>\n",
       "      <td>False</td>\n",
       "      <td>False</td>\n",
       "      <td>False</td>\n",
       "      <td>False</td>\n",
       "      <td>False</td>\n",
       "      <td>False</td>\n",
       "      <td>False</td>\n",
       "      <td>False</td>\n",
       "      <td>False</td>\n",
       "    </tr>\n",
       "  </tbody>\n",
       "</table>\n",
       "<p>5 rows × 975 columns</p>\n",
       "</div>"
      ],
      "text/plain": [
       "   Location_Bangalore  Location_Chennai  Location_Coimbatore  Location_Delhi  \\\n",
       "0               False             False                False           False   \n",
       "1               False             False                False           False   \n",
       "2               False              True                False           False   \n",
       "3               False              True                False           False   \n",
       "4               False             False                 True           False   \n",
       "\n",
       "   Location_Hyderabad  Location_Jaipur  Location_Kochi  Location_Kolkata  \\\n",
       "0               False            False           False             False   \n",
       "1               False            False           False             False   \n",
       "2               False            False           False             False   \n",
       "3               False            False           False             False   \n",
       "4               False            False           False             False   \n",
       "\n",
       "   Location_Mumbai  Location_Pune  ...  Power_97.6 bhp  Power_97.7 bhp  \\\n",
       "0             True          False  ...           False           False   \n",
       "1            False           True  ...           False           False   \n",
       "2            False          False  ...           False           False   \n",
       "3            False          False  ...           False           False   \n",
       "4            False          False  ...           False           False   \n",
       "\n",
       "   Power_98.59 bhp  Power_98.6 bhp  Power_98.79 bhp  Power_98.82 bhp  \\\n",
       "0            False           False            False            False   \n",
       "1            False           False            False            False   \n",
       "2            False           False            False            False   \n",
       "3            False           False            False            False   \n",
       "4            False           False            False            False   \n",
       "\n",
       "   Power_98.96 bhp  Power_99 bhp  Power_99.6 bhp  Power_null bhp  \n",
       "0            False         False           False           False  \n",
       "1            False         False           False           False  \n",
       "2            False         False           False           False  \n",
       "3            False         False           False           False  \n",
       "4            False         False           False           False  \n",
       "\n",
       "[5 rows x 975 columns]"
      ]
     },
     "execution_count": 25,
     "metadata": {},
     "output_type": "execute_result"
    }
   ],
   "source": [
    "categorical_data__one_hot = pd.get_dummies(categorical_data, drop_first=True)\n",
    "categorical_data__one_hot.head()"
   ]
  },
  {
   "cell_type": "code",
   "execution_count": 26,
   "id": "f66e89fc-cad7-4ffc-a2a8-50f8c867cd35",
   "metadata": {},
   "outputs": [
    {
     "data": {
      "text/html": [
       "<div>\n",
       "<style scoped>\n",
       "    .dataframe tbody tr th:only-of-type {\n",
       "        vertical-align: middle;\n",
       "    }\n",
       "\n",
       "    .dataframe tbody tr th {\n",
       "        vertical-align: top;\n",
       "    }\n",
       "\n",
       "    .dataframe thead th {\n",
       "        text-align: right;\n",
       "    }\n",
       "</style>\n",
       "<table border=\"1\" class=\"dataframe\">\n",
       "  <thead>\n",
       "    <tr style=\"text-align: right;\">\n",
       "      <th></th>\n",
       "      <th>Year</th>\n",
       "      <th>Kilometers_Driven</th>\n",
       "      <th>Seats</th>\n",
       "      <th>Price</th>\n",
       "      <th>Location_Bangalore</th>\n",
       "      <th>Location_Chennai</th>\n",
       "      <th>Location_Coimbatore</th>\n",
       "      <th>Location_Delhi</th>\n",
       "      <th>Location_Hyderabad</th>\n",
       "      <th>Location_Jaipur</th>\n",
       "      <th>...</th>\n",
       "      <th>Power_97.6 bhp</th>\n",
       "      <th>Power_97.7 bhp</th>\n",
       "      <th>Power_98.59 bhp</th>\n",
       "      <th>Power_98.6 bhp</th>\n",
       "      <th>Power_98.79 bhp</th>\n",
       "      <th>Power_98.82 bhp</th>\n",
       "      <th>Power_98.96 bhp</th>\n",
       "      <th>Power_99 bhp</th>\n",
       "      <th>Power_99.6 bhp</th>\n",
       "      <th>Power_null bhp</th>\n",
       "    </tr>\n",
       "  </thead>\n",
       "  <tbody>\n",
       "    <tr>\n",
       "      <th>0</th>\n",
       "      <td>2010</td>\n",
       "      <td>72000</td>\n",
       "      <td>5.0</td>\n",
       "      <td>1.75</td>\n",
       "      <td>False</td>\n",
       "      <td>False</td>\n",
       "      <td>False</td>\n",
       "      <td>False</td>\n",
       "      <td>False</td>\n",
       "      <td>False</td>\n",
       "      <td>...</td>\n",
       "      <td>False</td>\n",
       "      <td>False</td>\n",
       "      <td>False</td>\n",
       "      <td>False</td>\n",
       "      <td>False</td>\n",
       "      <td>False</td>\n",
       "      <td>False</td>\n",
       "      <td>False</td>\n",
       "      <td>False</td>\n",
       "      <td>False</td>\n",
       "    </tr>\n",
       "    <tr>\n",
       "      <th>1</th>\n",
       "      <td>2015</td>\n",
       "      <td>41000</td>\n",
       "      <td>5.0</td>\n",
       "      <td>12.50</td>\n",
       "      <td>False</td>\n",
       "      <td>False</td>\n",
       "      <td>False</td>\n",
       "      <td>False</td>\n",
       "      <td>False</td>\n",
       "      <td>False</td>\n",
       "      <td>...</td>\n",
       "      <td>False</td>\n",
       "      <td>False</td>\n",
       "      <td>False</td>\n",
       "      <td>False</td>\n",
       "      <td>False</td>\n",
       "      <td>False</td>\n",
       "      <td>False</td>\n",
       "      <td>False</td>\n",
       "      <td>False</td>\n",
       "      <td>False</td>\n",
       "    </tr>\n",
       "    <tr>\n",
       "      <th>2</th>\n",
       "      <td>2011</td>\n",
       "      <td>46000</td>\n",
       "      <td>5.0</td>\n",
       "      <td>4.50</td>\n",
       "      <td>False</td>\n",
       "      <td>True</td>\n",
       "      <td>False</td>\n",
       "      <td>False</td>\n",
       "      <td>False</td>\n",
       "      <td>False</td>\n",
       "      <td>...</td>\n",
       "      <td>False</td>\n",
       "      <td>False</td>\n",
       "      <td>False</td>\n",
       "      <td>False</td>\n",
       "      <td>False</td>\n",
       "      <td>False</td>\n",
       "      <td>False</td>\n",
       "      <td>False</td>\n",
       "      <td>False</td>\n",
       "      <td>False</td>\n",
       "    </tr>\n",
       "    <tr>\n",
       "      <th>3</th>\n",
       "      <td>2012</td>\n",
       "      <td>87000</td>\n",
       "      <td>7.0</td>\n",
       "      <td>6.00</td>\n",
       "      <td>False</td>\n",
       "      <td>True</td>\n",
       "      <td>False</td>\n",
       "      <td>False</td>\n",
       "      <td>False</td>\n",
       "      <td>False</td>\n",
       "      <td>...</td>\n",
       "      <td>False</td>\n",
       "      <td>False</td>\n",
       "      <td>False</td>\n",
       "      <td>False</td>\n",
       "      <td>False</td>\n",
       "      <td>False</td>\n",
       "      <td>False</td>\n",
       "      <td>False</td>\n",
       "      <td>False</td>\n",
       "      <td>False</td>\n",
       "    </tr>\n",
       "    <tr>\n",
       "      <th>4</th>\n",
       "      <td>2013</td>\n",
       "      <td>40670</td>\n",
       "      <td>5.0</td>\n",
       "      <td>17.74</td>\n",
       "      <td>False</td>\n",
       "      <td>False</td>\n",
       "      <td>True</td>\n",
       "      <td>False</td>\n",
       "      <td>False</td>\n",
       "      <td>False</td>\n",
       "      <td>...</td>\n",
       "      <td>False</td>\n",
       "      <td>False</td>\n",
       "      <td>False</td>\n",
       "      <td>False</td>\n",
       "      <td>False</td>\n",
       "      <td>False</td>\n",
       "      <td>False</td>\n",
       "      <td>False</td>\n",
       "      <td>False</td>\n",
       "      <td>False</td>\n",
       "    </tr>\n",
       "  </tbody>\n",
       "</table>\n",
       "<p>5 rows × 979 columns</p>\n",
       "</div>"
      ],
      "text/plain": [
       "   Year  Kilometers_Driven  Seats  Price  Location_Bangalore  \\\n",
       "0  2010              72000    5.0   1.75               False   \n",
       "1  2015              41000    5.0  12.50               False   \n",
       "2  2011              46000    5.0   4.50               False   \n",
       "3  2012              87000    7.0   6.00               False   \n",
       "4  2013              40670    5.0  17.74               False   \n",
       "\n",
       "   Location_Chennai  Location_Coimbatore  Location_Delhi  Location_Hyderabad  \\\n",
       "0             False                False           False               False   \n",
       "1             False                False           False               False   \n",
       "2              True                False           False               False   \n",
       "3              True                False           False               False   \n",
       "4             False                 True           False               False   \n",
       "\n",
       "   Location_Jaipur  ...  Power_97.6 bhp  Power_97.7 bhp  Power_98.59 bhp  \\\n",
       "0            False  ...           False           False            False   \n",
       "1            False  ...           False           False            False   \n",
       "2            False  ...           False           False            False   \n",
       "3            False  ...           False           False            False   \n",
       "4            False  ...           False           False            False   \n",
       "\n",
       "   Power_98.6 bhp  Power_98.79 bhp  Power_98.82 bhp  Power_98.96 bhp  \\\n",
       "0           False            False            False            False   \n",
       "1           False            False            False            False   \n",
       "2           False            False            False            False   \n",
       "3           False            False            False            False   \n",
       "4           False            False            False            False   \n",
       "\n",
       "   Power_99 bhp  Power_99.6 bhp  Power_null bhp  \n",
       "0         False           False           False  \n",
       "1         False           False           False  \n",
       "2         False           False           False  \n",
       "3         False           False           False  \n",
       "4         False           False           False  \n",
       "\n",
       "[5 rows x 979 columns]"
      ]
     },
     "execution_count": 26,
     "metadata": {},
     "output_type": "execute_result"
    }
   ],
   "source": [
    "complete_dataset = pd.concat([numeric_df, categorical_data__one_hot], axis=1)\n",
    "complete_dataset.head()"
   ]
  },
  {
   "cell_type": "code",
   "execution_count": 27,
   "id": "2d572f77-6fa6-474d-91b5-c26832058947",
   "metadata": {},
   "outputs": [
    {
     "data": {
      "text/plain": [
       "Year                  0.000000\n",
       "Kilometers_Driven     0.000000\n",
       "Seats                 0.006978\n",
       "Price                 0.000000\n",
       "Location_Bangalore    0.000000\n",
       "                        ...   \n",
       "Power_98.82 bhp       0.000000\n",
       "Power_98.96 bhp       0.000000\n",
       "Power_99 bhp          0.000000\n",
       "Power_99.6 bhp        0.000000\n",
       "Power_null bhp        0.000000\n",
       "Length: 979, dtype: float64"
      ]
     },
     "execution_count": 27,
     "metadata": {},
     "output_type": "execute_result"
    }
   ],
   "source": [
    "complete_dataset.isnull().mean()"
   ]
  },
  {
   "cell_type": "code",
   "execution_count": 28,
   "id": "5bc6f642-9396-4215-ace3-f16eeb8f68e6",
   "metadata": {},
   "outputs": [],
   "source": [
    "complete_dataset.dropna(inplace=True) # removing null row"
   ]
  },
  {
   "cell_type": "code",
   "execution_count": 29,
   "id": "e9b1df6a-e9cb-4ce8-a305-9de6d532a057",
   "metadata": {},
   "outputs": [],
   "source": [
    "X=complete_dataset.drop(['Price'], axis=1)\n",
    "y=complete_dataset['Price']"
   ]
  },
  {
   "cell_type": "code",
   "execution_count": 30,
   "id": "ed33523c-ae09-406f-ac83-05f9782c931d",
   "metadata": {},
   "outputs": [],
   "source": [
    "X_train, X_test, y_train, y_test=train_test_split(X,y,test_size=0.2,random_state=20)"
   ]
  },
  {
   "cell_type": "code",
   "execution_count": 31,
   "id": "67911e37-a0b4-4fd5-b2f1-14060ecbecc7",
   "metadata": {},
   "outputs": [],
   "source": [
    "from sklearn.preprocessing import StandardScaler\n",
    "scaler = StandardScaler()\n",
    "X_train = scaler.fit_transform(X_train)\n",
    "X_test = scaler.fit_transform(X_test)"
   ]
  },
  {
   "cell_type": "markdown",
   "id": "3a65c403-cc7c-4c07-b313-0cc43807746a",
   "metadata": {},
   "source": [
    "### Creating the neural network"
   ]
  },
  {
   "cell_type": "code",
   "execution_count": 33,
   "id": "1602c9ff-c780-493c-afdf-bfcff822a6c5",
   "metadata": {},
   "outputs": [],
   "source": [
    "from tensorflow.keras.layers import Input, Dense, Activation, Dropout\n",
    "from tensorflow.keras.models import Model"
   ]
  },
  {
   "cell_type": "code",
   "execution_count": 34,
   "id": "44c18d61-4bab-48b8-b8d8-9f34e0079c89",
   "metadata": {},
   "outputs": [],
   "source": [
    "input_layer = Input(shape=(X.shape[1],))\n",
    "dense_layer0=Dense(100, activation='relu')(input_layer)\n",
    "dense_layer1=Dense(50, activation='relu')(dense_layer0)\n",
    "dense_layer2=Dense(25, activation='relu')(dense_layer1)\n",
    "dense_layer3=Dense(10, activation='relu')(dense_layer2)\n",
    "dense_layer4=Dense(5, activation='relu')(dense_layer3)\n",
    "dense_layer5=Dense(2, activation='relu')(dense_layer4)\n",
    "output = Dense(1)(dense_layer5)"
   ]
  },
  {
   "cell_type": "code",
   "execution_count": 35,
   "id": "c252eb59-e928-424e-ac6c-20e35e746879",
   "metadata": {},
   "outputs": [],
   "source": [
    "model = Model(inputs=input_layer, outputs=output)\n",
    "model.compile(loss=\"mean_absolute_error\", optimizer=\"adam\", metrics=[\"mean_absolute_error\"])"
   ]
  },
  {
   "cell_type": "code",
   "execution_count": 36,
   "id": "8757ad48-6735-4475-8970-7ce5bf135c72",
   "metadata": {},
   "outputs": [
    {
     "data": {
      "image/png": "[encoded data removed]",
      "text/plain": [
       "<IPython.core.display.Image object>"
      ]
     },
     "execution_count": 36,
     "metadata": {},
     "output_type": "execute_result"
    }
   ],
   "source": [
    "from keras.utils import plot_model\n",
    "plot_model(model, to_file='model_plot.png', show_shapes=True, show_layer_names=True)"
   ]
  },
  {
   "cell_type": "code",
   "execution_count": 37,
   "id": "cd880c5c-12b9-46c1-bb10-2f9a568426f0",
   "metadata": {},
   "outputs": [
    {
     "name": "stdout",
     "output_type": "stream",
     "text": [
      "Epoch 1/5\n",
      "\u001b[1m765/765\u001b[0m \u001b[32m━━━━━━━━━━━━━━━━━━━━\u001b[0m\u001b[37m\u001b[0m \u001b[1m3s\u001b[0m 2ms/step - loss: 4.9906 - mean_absolute_error: 4.9906 - val_loss: 2.3350 - val_mean_absolute_error: 2.3350\n",
      "Epoch 2/5\n",
      "\u001b[1m765/765\u001b[0m \u001b[32m━━━━━━━━━━━━━━━━━━━━\u001b[0m\u001b[37m\u001b[0m \u001b[1m2s\u001b[0m 2ms/step - loss: 2.2215 - mean_absolute_error: 2.2215 - val_loss: 2.0214 - val_mean_absolute_error: 2.0214\n",
      "Epoch 3/5\n",
      "\u001b[1m765/765\u001b[0m \u001b[32m━━━━━━━━━━━━━━━━━━━━\u001b[0m\u001b[37m\u001b[0m \u001b[1m2s\u001b[0m 2ms/step - loss: 1.6787 - mean_absolute_error: 1.6787 - val_loss: 2.1681 - val_mean_absolute_error: 2.1681\n",
      "Epoch 4/5\n",
      "\u001b[1m765/765\u001b[0m \u001b[32m━━━━━━━━━━━━━━━━━━━━\u001b[0m\u001b[37m\u001b[0m \u001b[1m2s\u001b[0m 2ms/step - loss: 1.5520 - mean_absolute_error: 1.5520 - val_loss: 1.9690 - val_mean_absolute_error: 1.9690\n",
      "Epoch 5/5\n",
      "\u001b[1m765/765\u001b[0m \u001b[32m━━━━━━━━━━━━━━━━━━━━\u001b[0m\u001b[37m\u001b[0m \u001b[1m1s\u001b[0m 2ms/step - loss: 1.4337 - mean_absolute_error: 1.4337 - val_loss: 1.9553 - val_mean_absolute_error: 1.9553\n"
     ]
    }
   ],
   "source": [
    "history=model.fit(X_train,y_train, batch_size=5, epochs=5, verbose=1, validation_split=0.2)"
   ]
  },
  {
   "cell_type": "code",
   "execution_count": null,
   "id": "8fbac091-2661-47a8-b121-e6dd670c7b93",
   "metadata": {},
   "outputs": [],
   "source": []
  },
  {
   "cell_type": "code",
   "execution_count": 38,
   "id": "71b4c152-794c-4aca-a9bb-3ec7108f9dd3",
   "metadata": {},
   "outputs": [
    {
     "data": {
      "image/png": "[encoded data removed]",
      "text/plain": [
       "<Figure size 800x600 with 1 Axes>"
      ]
     },
     "metadata": {},
     "output_type": "display_data"
    }
   ],
   "source": [
    "plt.plot(history.history['loss'])\n",
    "plt.plot(history.history['val_loss'])\n",
    "\n",
    "plt.title('loss')\n",
    "plt.ylabel('loss' )\n",
    "plt.xlabel('epoch' )\n",
    "plt.legend(['train' ,'test'], loc='upper left')\n",
    "plt.show()"
   ]
  },
  {
   "cell_type": "code",
   "execution_count": 39,
   "id": "adb4ca18-5273-429a-a668-8fe76f72ee7d",
   "metadata": {},
   "outputs": [
    {
     "name": "stdout",
     "output_type": "stream",
     "text": [
      "\u001b[1m38/38\u001b[0m \u001b[32m━━━━━━━━━━━━━━━━━━━━\u001b[0m\u001b[37m\u001b[0m \u001b[1m0s\u001b[0m 2ms/step\n"
     ]
    }
   ],
   "source": [
    "y_pred = model.predict(X_test)"
   ]
  },
  {
   "cell_type": "code",
   "execution_count": 77,
   "id": "ee814cda-efd4-41fa-9ffa-5610a3e3ff5b",
   "metadata": {},
   "outputs": [
    {
     "name": "stdout",
     "output_type": "stream",
     "text": [
      "Mean Absolute Error:2.1083894113972037\n",
      "Mean Squared Error:23.27176154871026\n",
      "Root Mean Squared Error:4.82408142019911\n",
      "R2 Score:79.55506487409372\n"
     ]
    }
   ],
   "source": [
    "from sklearn import metrics\n",
    "print(f\"Mean Absolute Error:{metrics.mean_absolute_error(y_test, y_pred)}\")\n",
    "print(f\"Mean Squared Error:{metrics.mean_squared_error(y_test, y_pred)}\")\n",
    "print(f\"Root Mean Squared Error:{np.sqrt(metrics.mean_squared_error(y_test, y_pred))}\")\n",
    "print(f\"R2 Score:{metrics.r2_score(y_test, y_pred)*100}\")"
   ]
  },
  {
   "cell_type": "code",
   "execution_count": 79,
   "id": "78d26b9a-5f11-477e-973a-0f024ea0c07f",
   "metadata": {},
   "outputs": [
    {
     "data": {
      "text/plain": [
       "9.47946835022429"
      ]
     },
     "execution_count": 79,
     "metadata": {},
     "output_type": "execute_result"
    }
   ],
   "source": [
    "car_dataset['Price'].mean()"
   ]
  },
  {
   "cell_type": "code",
   "execution_count": 81,
   "id": "6513c14e-10c7-4f30-a053-37c0c98b38d0",
   "metadata": {},
   "outputs": [],
   "source": [
    "# Prices differ by 2.1/9.47 = 0.22 -> on avg, prices predicted differ by 19.6%"
   ]
  },
  {
   "cell_type": "code",
   "execution_count": 83,
   "id": "9f9a5f10-a448-4df9-8b19-0c036dee3946",
   "metadata": {},
   "outputs": [
    {
     "data": {
      "text/html": [
       "<div>\n",
       "<style scoped>\n",
       "    .dataframe tbody tr th:only-of-type {\n",
       "        vertical-align: middle;\n",
       "    }\n",
       "\n",
       "    .dataframe tbody tr th {\n",
       "        vertical-align: top;\n",
       "    }\n",
       "\n",
       "    .dataframe thead th {\n",
       "        text-align: right;\n",
       "    }\n",
       "</style>\n",
       "<table border=\"1\" class=\"dataframe\">\n",
       "  <thead>\n",
       "    <tr style=\"text-align: right;\">\n",
       "      <th></th>\n",
       "      <th>Actual</th>\n",
       "      <th>Predicted</th>\n",
       "    </tr>\n",
       "  </thead>\n",
       "  <tbody>\n",
       "    <tr>\n",
       "      <th>0</th>\n",
       "      <td>8.25</td>\n",
       "      <td>[10.142377853393555]</td>\n",
       "    </tr>\n",
       "    <tr>\n",
       "      <th>1</th>\n",
       "      <td>5.08</td>\n",
       "      <td>[4.95290470123291]</td>\n",
       "    </tr>\n",
       "    <tr>\n",
       "      <th>2</th>\n",
       "      <td>4.50</td>\n",
       "      <td>[7.94775390625]</td>\n",
       "    </tr>\n",
       "    <tr>\n",
       "      <th>3</th>\n",
       "      <td>28.50</td>\n",
       "      <td>[18.516761779785156]</td>\n",
       "    </tr>\n",
       "    <tr>\n",
       "      <th>4</th>\n",
       "      <td>7.25</td>\n",
       "      <td>[8.049116134643555]</td>\n",
       "    </tr>\n",
       "    <tr>\n",
       "      <th>...</th>\n",
       "      <td>...</td>\n",
       "      <td>...</td>\n",
       "    </tr>\n",
       "    <tr>\n",
       "      <th>1191</th>\n",
       "      <td>7.50</td>\n",
       "      <td>[7.6061882972717285]</td>\n",
       "    </tr>\n",
       "    <tr>\n",
       "      <th>1192</th>\n",
       "      <td>21.67</td>\n",
       "      <td>[21.21645736694336]</td>\n",
       "    </tr>\n",
       "    <tr>\n",
       "      <th>1193</th>\n",
       "      <td>4.60</td>\n",
       "      <td>[5.18857479095459]</td>\n",
       "    </tr>\n",
       "    <tr>\n",
       "      <th>1194</th>\n",
       "      <td>8.00</td>\n",
       "      <td>[16.408056259155273]</td>\n",
       "    </tr>\n",
       "    <tr>\n",
       "      <th>1195</th>\n",
       "      <td>2.65</td>\n",
       "      <td>[4.414381980895996]</td>\n",
       "    </tr>\n",
       "  </tbody>\n",
       "</table>\n",
       "<p>1196 rows × 2 columns</p>\n",
       "</div>"
      ],
      "text/plain": [
       "      Actual             Predicted\n",
       "0       8.25  [10.142377853393555]\n",
       "1       5.08    [4.95290470123291]\n",
       "2       4.50       [7.94775390625]\n",
       "3      28.50  [18.516761779785156]\n",
       "4       7.25   [8.049116134643555]\n",
       "...      ...                   ...\n",
       "1191    7.50  [7.6061882972717285]\n",
       "1192   21.67   [21.21645736694336]\n",
       "1193    4.60    [5.18857479095459]\n",
       "1194    8.00  [16.408056259155273]\n",
       "1195    2.65   [4.414381980895996]\n",
       "\n",
       "[1196 rows x 2 columns]"
      ]
     },
     "execution_count": 83,
     "metadata": {},
     "output_type": "execute_result"
    }
   ],
   "source": [
    "comparison_df = pd.DataFrame({'Actual':y_test.values.tolist(), 'Predicted':y_pred.tolist()})\n",
    "comparison_df"
   ]
  },
  {
   "cell_type": "code",
   "execution_count": 91,
   "id": "d4e20cb3-9763-4f9f-b7ff-04afd6e776a2",
   "metadata": {},
   "outputs": [
    {
     "data": {
      "text/plain": [
       "(978,)"
      ]
     },
     "execution_count": 91,
     "metadata": {},
     "output_type": "execute_result"
    }
   ],
   "source": [
    "X_test[1].shape"
   ]
  },
  {
   "cell_type": "code",
   "execution_count": 93,
   "id": "26dca372-ec27-45f9-8d7f-dac7fefba846",
   "metadata": {},
   "outputs": [
    {
     "data": {
      "text/plain": [
       "(1, 978)"
      ]
     },
     "execution_count": 93,
     "metadata": {},
     "output_type": "execute_result"
    }
   ],
   "source": [
    "single_point = X_test[1].reshape(1,-1)\n",
    "single_point.shape"
   ]
  },
  {
   "cell_type": "code",
   "execution_count": 95,
   "id": "0edf761e-97f9-4f32-a6a0-19fdcfc91b84",
   "metadata": {},
   "outputs": [
    {
     "name": "stdout",
     "output_type": "stream",
     "text": [
      "\u001b[1m1/1\u001b[0m \u001b[32m━━━━━━━━━━━━━━━━━━━━\u001b[0m\u001b[37m\u001b[0m \u001b[1m0s\u001b[0m 258ms/step\n"
     ]
    },
    {
     "data": {
      "text/plain": [
       "array([[4.9529047]], dtype=float32)"
      ]
     },
     "execution_count": 95,
     "metadata": {},
     "output_type": "execute_result"
    }
   ],
   "source": [
    "model.predict(X_test[1].reshape(1,-1))"
   ]
  },
  {
   "cell_type": "code",
   "execution_count": 97,
   "id": "d16aa390-8526-4630-a607-97a85e06f230",
   "metadata": {},
   "outputs": [
    {
     "data": {
      "text/plain": [
       "5.08"
      ]
     },
     "execution_count": 97,
     "metadata": {},
     "output_type": "execute_result"
    }
   ],
   "source": [
    "y_test.values[1]"
   ]
  },
  {
   "cell_type": "code",
   "execution_count": null,
   "id": "aae89092-9786-4f92-be74-55dbb1946242",
   "metadata": {},
   "outputs": [],
   "source": []
  }
 ],
 "metadata": {
  "kernelspec": {
   "display_name": "Python 3 (ipykernel)",
   "language": "python",
   "name": "python3"
  },
  "language_info": {
   "codemirror_mode": {
    "name": "ipython",
    "version": 3
   },
   "file_extension": ".py",
   "mimetype": "text/x-python",
   "name": "python",
   "nbconvert_exporter": "python",
   "pygments_lexer": "ipython3",
   "version": "3.12.4"
  }
 },
 "nbformat": 4,
 "nbformat_minor": 5
}
